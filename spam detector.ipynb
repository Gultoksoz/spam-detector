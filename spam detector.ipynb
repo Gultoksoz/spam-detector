{
  "nbformat": 4,
  "nbformat_minor": 0,
  "metadata": {
    "colab": {
      "provenance": [],
      "collapsed_sections": []
    },
    "kernelspec": {
      "name": "python3",
      "display_name": "Python 3"
    },
    "language_info": {
      "name": "python"
    },
    "accelerator": "GPU"
  },
  "cells": [
    {
      "cell_type": "code",
      "execution_count": null,
      "metadata": {
        "colab": {
          "base_uri": "https://localhost:8080/"
        },
        "id": "y98McvLSqife",
        "outputId": "8d208935-b6e8-41d7-e068-5102c8c4eddf"
      },
      "outputs": [
        {
          "output_type": "stream",
          "name": "stdout",
          "text": [
            "['ham']\n",
            "0.979372197309417\n"
          ]
        }
      ],
      "source": [
        "from statistics import mode\n",
        "import pandas as pd\n",
        "from sklearn.model_selection import train_test_split\n",
        "from sklearn.feature_extraction.text import CountVectorizer\n",
        "from sklearn import svm\n",
        "\n",
        "spam = pd.read_csv('spam.csv')\n",
        "z = spam['v2']\n",
        "y = spam[\"v1\"]\n",
        "z_train, z_test,y_train, y_test = train_test_split(z,y,test_size = 0.2)\n",
        "\n",
        "cv = CountVectorizer()\n",
        "features = cv.fit_transform(z_train)\n",
        "\n",
        "model = svm.SVC()\n",
        "model.fit(features,y_train)\n",
        "\n",
        "input_mail=[\"Ok lar... Joking wif u oni...\"]\n",
        "  \n",
        "features_test = cv.transform(z_test)\n",
        "\n",
        "input_data_features=cv.transform(input_mail)\n",
        "predection=model.predict(input_data_features)\n",
        "print(predection)\n",
        "\n",
        "print(model.score(features_test,y_test))"
      ]
    },
    {
      "cell_type": "code",
      "source": [
        "import imaplib\n",
        "import email\n",
        "import os\n",
        "from datetime import datetime\n",
        "import mimetypes\n",
        "\n",
        "\n",
        "def getAllEmails(username, password, folderName):\n",
        "  \n",
        "    mail = imaplib.IMAP4_SSL(\"imap.gmail.com\")    \n",
        "   \n",
        "    mail.login(username, password)\n",
        "    print(\"Login success..........\")\n",
        "    mail.select(\"inbox\")\n",
        "    result, data = mail.uid('search',None,'UNSEEN')\n",
        "    inbox_item_list = data[0].split()             \n",
        "    \n",
        "    counter = 0\n",
        "    \n",
        "    for item in inbox_item_list:\n",
        "        ayristirmaSayac=0\n",
        "        counter+=1\n",
        "        \n",
        "        result2, email_data = mail.uid('fetch',item,'(RFC822)')\n",
        "        \n",
        "        raw_email = email_data[0][1].decode(\"utf-8\")   \n",
        "        \n",
        "        \n",
        "        email_message = email.message_from_string(raw_email)\n",
        "\n",
        "       \n",
        "        to_ = email_message['To']         \n",
        "        from_ = email_message['From']\n",
        "        subject_ = email_message['Subject']\n",
        "        date_ = email_message['date']\n",
        "           \n",
        "       \n",
        "        for part in email_message.walk():\n",
        "            if part.get_content_maintype == 'multipart':\n",
        "                continue\n",
        "            content_type = part.get_content_type()\n",
        "            content_disposition = str(part.get(\"Content-Disposition\"))\n",
        "\n",
        "        \n",
        "            try:\n",
        "                body = part.get_payload(decode=True).decode()\n",
        "                if ayristirmaSayac==0:\n",
        "                    text = part.get_payload(decode=True).decode()\n",
        "                    ayristirmaSayac+=1\n",
        "                    input_mail=[text]\n",
        "                    features_test = cv.transform(z_test)\n",
        "                    input_data_features=cv.transform(input_mail)\n",
        "                    predection=model.predict(input_data_features)\n",
        "                    print(predection)\n",
        "                    print(text)\n",
        "            except:\n",
        "                pass\n",
        "        \n",
        "    mail.close()\n",
        "    mail.logout()\n",
        "\n",
        "getAllEmails(\"bsevtek@gmail.com\",\"wfjtjnlksxuhcpcb\",\"folder\")\n"
      ],
      "metadata": {
        "colab": {
          "base_uri": "https://localhost:8080/"
        },
        "id": "LXeucly0o7UP",
        "outputId": "3516d0ba-dba8-4405-a377-6eec11c53d6e"
      },
      "execution_count": null,
      "outputs": [
        {
          "output_type": "stream",
          "name": "stdout",
          "text": [
            "Login success..........\n",
            "['ham']\n",
            "Hi, I miss you so much. Please, come back. END\n",
            "\n",
            "['spam']\n",
            "SMS.ac Sptv: The New Jersey Devils and the Detroit Red Wings play ice hockey. Correct or incorrect? End? Reply END SPTV,,,\n",
            "Next line of the body: END\n",
            "\n"
          ]
        }
      ]
    }
  ]
}